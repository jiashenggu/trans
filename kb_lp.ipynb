{
 "cells": [
  {
   "cell_type": "code",
   "execution_count": 18,
   "metadata": {},
   "outputs": [],
   "source": [
    "import pandas as pd\n",
    "import numpy as np"
   ]
  },
  {
   "cell_type": "code",
   "execution_count": 65,
   "metadata": {},
   "outputs": [],
   "source": [
    "def softmax(x):\n",
    "    \n",
    "    f_x = np.exp(x) / np.sum(np.exp(x))\n",
    "    return f_x\n",
    "# def softmax(x):\n",
    "\n",
    "#     y = np.exp(x - np.max(x))\n",
    "#     f_x = y / np.sum(np.exp(x))\n",
    "#     return f_x\n",
    "def normalize(df):\n",
    "    # return (df-df.min())/(df.max()-df.min())\n",
    "    return df / np.linalg.norm(df)"
   ]
  },
  {
   "cell_type": "code",
   "execution_count": 97,
   "metadata": {},
   "outputs": [
    {
     "data": {
      "text/plain": [
       "(31100, 7)"
      ]
     },
     "execution_count": 97,
     "metadata": {},
     "output_type": "execute_result"
    }
   ],
   "source": [
    "ppl_kb = pd.read_csv('/nas/home/gujiashe/trans/yago310_ppls_top10_kb.tsv', sep='\\t', index_col=0)\n",
    "ppl_kb = ppl_kb[ppl_kb[\"rank\"]<=10]\n",
    "ppl_kb.index = list(range(len(ppl_kb)))\n",
    "ppl_kb.shape"
   ]
  },
  {
   "cell_type": "code",
   "execution_count": 135,
   "metadata": {},
   "outputs": [
    {
     "data": {
      "text/plain": [
       "(31100, 7)"
      ]
     },
     "execution_count": 135,
     "metadata": {},
     "output_type": "execute_result"
    }
   ],
   "source": [
    "ppl_gpt = pd.read_csv('/nas/home/gujiashe/trans/yago310_ppls_top10_gpt.tsv', sep='\\t', index_col=0)\n",
    "ppl_gpt = ppl_gpt[ppl_gpt[\"rank\"]<=10]\n",
    "ppl_gpt.index = list(range(len(ppl_gpt)))\n",
    "ppl_gpt.shape"
   ]
  },
  {
   "cell_type": "code",
   "execution_count": 139,
   "metadata": {},
   "outputs": [],
   "source": [
    "def normalize_score_ppl(ppl):\n",
    "    ppl_norm = ppl.copy()\n",
    "    for i in range(len(ppl)//10):\n",
    "        ppl_norm.loc[i*10: i*10+9, \"score\"] = normalize(softmax(ppl_norm.loc[i*10: i*10+9, \"score\"]))\n",
    "        ppl_norm.loc[i*10: i*10+9, \"ppls\"] = normalize(ppl_norm.loc[i*10: i*10+9, \"ppls\"])\n",
    "    return ppl_norm\n",
    "ppl_norm = normalize_score_ppl(ppl_gpt)"
   ]
  },
  {
   "cell_type": "code",
   "execution_count": 140,
   "metadata": {},
   "outputs": [],
   "source": [
    "def multiply_score_ppl(ppl_norm):\n",
    "    ppl_multiply = ppl_norm.copy()\n",
    "    for i in range(len(ppl_norm)//10):\n",
    "        ppl_multiply.loc[i*10: i*10+9, \"multiply\"] = ppl_multiply.loc[i*10: i*10+9, \"score\"] * 1/ppl_multiply.loc[i*10: i*10+10, \"ppls\"]\n",
    "        ppl_multiply.loc[i*10: i*10+9, \"multiply_rank\"] = ppl_multiply.loc[i*10: i*10+9, \"multiply\"].rank()\n",
    "        ppl_multiply.loc[i*10: i*10+9, \"multiply_rank_true\"] = ppl_multiply.loc[i*10-1 + ppl_multiply.loc[i*10, 'rank'], \"multiply_rank\"]  \n",
    "    return ppl_multiply\n",
    "ppl_multiply = multiply_score_ppl(ppl_norm)"
   ]
  },
  {
   "cell_type": "code",
   "execution_count": 155,
   "metadata": {},
   "outputs": [],
   "source": [
    "def plus_score_ppl(ppl_norm):\n",
    "    ppl_plus = ppl_norm.copy()\n",
    "    for i in range(len(ppl_norm)//10):\n",
    "        ppl_plus.loc[i*10: i*10+9, \"plus\"] = ppl_plus.loc[i*10: i*10+9, \"score\"] + 1/ppl_plus.loc[i*10: i*10+10, \"ppls\"]\n",
    "        ppl_plus.loc[i*10: i*10+9, \"plus_rank\"] = ppl_plus.loc[i*10: i*10+9, \"plus\"].rank()\n",
    "        ppl_plus.loc[i*10: i*10+9, \"plus_rank_true\"] = ppl_plus.loc[i*10-1 + ppl_plus.loc[i*10, 'rank'], \"plus_rank\"]  \n",
    "    return ppl_plus\n",
    "ppl_plus = plus_score_ppl(ppl_norm)"
   ]
  },
  {
   "cell_type": "code",
   "execution_count": 149,
   "metadata": {},
   "outputs": [],
   "source": [
    "def print_rank(rank, k):\n",
    "    print((rank <= k).value_counts())\n"
   ]
  },
  {
   "cell_type": "code",
   "execution_count": 156,
   "metadata": {},
   "outputs": [
    {
     "name": "stdout",
     "output_type": "stream",
     "text": [
      "False    16840\n",
      "True     14260\n",
      "Name: rank, dtype: int64\n",
      "False    17470\n",
      "True     13630\n",
      "Name: multiply_rank_true, dtype: int64\n",
      "False    17380\n",
      "True     13720\n",
      "Name: plus_rank_true, dtype: int64\n"
     ]
    }
   ],
   "source": [
    "print_rank(ppl_plus['rank'], 5)\n",
    "print_rank(ppl_multiply['multiply_rank_true'], 5)\n",
    "print_rank(ppl_plus['plus_rank_true'], 5)"
   ]
  }
 ],
 "metadata": {
  "interpreter": {
   "hash": "1f24110ee2db4d48ba4b1000bf22589bea4791e16fd0364b7a9875ecc3c21267"
  },
  "kernelspec": {
   "display_name": "Python 3.6.7 ('knowbert': conda)",
   "language": "python",
   "name": "python3"
  },
  "language_info": {
   "codemirror_mode": {
    "name": "ipython",
    "version": 3
   },
   "file_extension": ".py",
   "mimetype": "text/x-python",
   "name": "python",
   "nbconvert_exporter": "python",
   "pygments_lexer": "ipython3",
   "version": "3.6.7"
  },
  "orig_nbformat": 4
 },
 "nbformat": 4,
 "nbformat_minor": 2
}
