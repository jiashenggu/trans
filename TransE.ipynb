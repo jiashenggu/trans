{
 "cells": [
  {
   "cell_type": "code",
   "execution_count": 2,
   "metadata": {},
   "outputs": [],
   "source": [
    "from pykeen.pipeline import pipeline\n",
    "from pykeen.models import TransE\n",
    "from pykeen.datasets import YAGO310\n",
    "from pykeen.models import predict\n",
    "from pykeen.training import SLCWATrainingLoop\n",
    "from pykeen.evaluation import RankBasedEvaluator\n",
    "from pykeen.regularizers import LpRegularizer\n",
    "from torch.optim import Adam\n",
    "import torch\n",
    "import pandas as pd\n",
    "from tqdm import tqdm\n",
    "import pickle\n",
    "import json"
   ]
  },
  {
   "cell_type": "code",
   "execution_count": 3,
   "metadata": {},
   "outputs": [
    {
     "ename": "KeyboardInterrupt",
     "evalue": "",
     "output_type": "error",
     "traceback": [
      "\u001b[0;31m---------------------------------------------------------------------------\u001b[0m",
      "\u001b[0;31mKeyboardInterrupt\u001b[0m                         Traceback (most recent call last)",
      "\u001b[1;32m/nas/home/gujiashe/trans/TransE.ipynb Cell 2'\u001b[0m in \u001b[0;36m<cell line: 1>\u001b[0;34m()\u001b[0m\n\u001b[0;32m----> <a href='vscode-notebook-cell://ssh-remote%2Bckg08.isi.edu/nas/home/gujiashe/trans/TransE.ipynb#ch0000001vscode-remote?line=0'>1</a>\u001b[0m model \u001b[39m=\u001b[39m torch\u001b[39m.\u001b[39;49mload(\u001b[39m'\u001b[39;49m\u001b[39m/nas/home/gujiashe/trans/2022-04-11-20-07-24_af660c1f-7064-4859-b5a7-11bd1b476116/replicates/replicate-00000/trained_model.pkl\u001b[39;49m\u001b[39m'\u001b[39;49m)\n\u001b[1;32m      <a href='vscode-notebook-cell://ssh-remote%2Bckg08.isi.edu/nas/home/gujiashe/trans/TransE.ipynb#ch0000001vscode-remote?line=1'>2</a>\u001b[0m dataset \u001b[39m=\u001b[39m YAGO310()\n",
      "File \u001b[0;32m~/miniconda3/envs/pykeen/lib/python3.10/site-packages/torch/serialization.py:712\u001b[0m, in \u001b[0;36mload\u001b[0;34m(f, map_location, pickle_module, **pickle_load_args)\u001b[0m\n\u001b[1;32m    <a href='file:///nas/home/gujiashe/miniconda3/envs/pykeen/lib/python3.10/site-packages/torch/serialization.py?line=709'>710</a>\u001b[0m             opened_file\u001b[39m.\u001b[39mseek(orig_position)\n\u001b[1;32m    <a href='file:///nas/home/gujiashe/miniconda3/envs/pykeen/lib/python3.10/site-packages/torch/serialization.py?line=710'>711</a>\u001b[0m             \u001b[39mreturn\u001b[39;00m torch\u001b[39m.\u001b[39mjit\u001b[39m.\u001b[39mload(opened_file)\n\u001b[0;32m--> <a href='file:///nas/home/gujiashe/miniconda3/envs/pykeen/lib/python3.10/site-packages/torch/serialization.py?line=711'>712</a>\u001b[0m         \u001b[39mreturn\u001b[39;00m _load(opened_zipfile, map_location, pickle_module, \u001b[39m*\u001b[39;49m\u001b[39m*\u001b[39;49mpickle_load_args)\n\u001b[1;32m    <a href='file:///nas/home/gujiashe/miniconda3/envs/pykeen/lib/python3.10/site-packages/torch/serialization.py?line=712'>713</a>\u001b[0m \u001b[39mreturn\u001b[39;00m _legacy_load(opened_file, map_location, pickle_module, \u001b[39m*\u001b[39m\u001b[39m*\u001b[39mpickle_load_args)\n",
      "File \u001b[0;32m~/miniconda3/envs/pykeen/lib/python3.10/site-packages/torch/serialization.py:1046\u001b[0m, in \u001b[0;36m_load\u001b[0;34m(zip_file, map_location, pickle_module, pickle_file, **pickle_load_args)\u001b[0m\n\u001b[1;32m   <a href='file:///nas/home/gujiashe/miniconda3/envs/pykeen/lib/python3.10/site-packages/torch/serialization.py?line=1043'>1044</a>\u001b[0m unpickler \u001b[39m=\u001b[39m UnpicklerWrapper(data_file, \u001b[39m*\u001b[39m\u001b[39m*\u001b[39mpickle_load_args)\n\u001b[1;32m   <a href='file:///nas/home/gujiashe/miniconda3/envs/pykeen/lib/python3.10/site-packages/torch/serialization.py?line=1044'>1045</a>\u001b[0m unpickler\u001b[39m.\u001b[39mpersistent_load \u001b[39m=\u001b[39m persistent_load\n\u001b[0;32m-> <a href='file:///nas/home/gujiashe/miniconda3/envs/pykeen/lib/python3.10/site-packages/torch/serialization.py?line=1045'>1046</a>\u001b[0m result \u001b[39m=\u001b[39m unpickler\u001b[39m.\u001b[39;49mload()\n\u001b[1;32m   <a href='file:///nas/home/gujiashe/miniconda3/envs/pykeen/lib/python3.10/site-packages/torch/serialization.py?line=1047'>1048</a>\u001b[0m torch\u001b[39m.\u001b[39m_utils\u001b[39m.\u001b[39m_validate_loaded_sparse_tensors()\n\u001b[1;32m   <a href='file:///nas/home/gujiashe/miniconda3/envs/pykeen/lib/python3.10/site-packages/torch/serialization.py?line=1049'>1050</a>\u001b[0m \u001b[39mreturn\u001b[39;00m result\n",
      "File \u001b[0;32m~/miniconda3/envs/pykeen/lib/python3.10/site-packages/torch/serialization.py:1016\u001b[0m, in \u001b[0;36m_load.<locals>.persistent_load\u001b[0;34m(saved_id)\u001b[0m\n\u001b[1;32m   <a href='file:///nas/home/gujiashe/miniconda3/envs/pykeen/lib/python3.10/site-packages/torch/serialization.py?line=1013'>1014</a>\u001b[0m \u001b[39mif\u001b[39;00m key \u001b[39mnot\u001b[39;00m \u001b[39min\u001b[39;00m loaded_storages:\n\u001b[1;32m   <a href='file:///nas/home/gujiashe/miniconda3/envs/pykeen/lib/python3.10/site-packages/torch/serialization.py?line=1014'>1015</a>\u001b[0m     nbytes \u001b[39m=\u001b[39m numel \u001b[39m*\u001b[39m torch\u001b[39m.\u001b[39m_utils\u001b[39m.\u001b[39m_element_size(dtype)\n\u001b[0;32m-> <a href='file:///nas/home/gujiashe/miniconda3/envs/pykeen/lib/python3.10/site-packages/torch/serialization.py?line=1015'>1016</a>\u001b[0m     load_tensor(dtype, nbytes, key, _maybe_decode_ascii(location))\n\u001b[1;32m   <a href='file:///nas/home/gujiashe/miniconda3/envs/pykeen/lib/python3.10/site-packages/torch/serialization.py?line=1017'>1018</a>\u001b[0m \u001b[39mreturn\u001b[39;00m loaded_storages[key]\n",
      "File \u001b[0;32m~/miniconda3/envs/pykeen/lib/python3.10/site-packages/torch/serialization.py:1001\u001b[0m, in \u001b[0;36m_load.<locals>.load_tensor\u001b[0;34m(dtype, numel, key, location)\u001b[0m\n\u001b[1;32m    <a href='file:///nas/home/gujiashe/miniconda3/envs/pykeen/lib/python3.10/site-packages/torch/serialization.py?line=996'>997</a>\u001b[0m storage \u001b[39m=\u001b[39m zip_file\u001b[39m.\u001b[39mget_storage_from_record(name, numel, torch\u001b[39m.\u001b[39m_UntypedStorage)\u001b[39m.\u001b[39mstorage()\u001b[39m.\u001b[39m_untyped()\n\u001b[1;32m    <a href='file:///nas/home/gujiashe/miniconda3/envs/pykeen/lib/python3.10/site-packages/torch/serialization.py?line=997'>998</a>\u001b[0m \u001b[39m# TODO: Once we decide to break serialization FC, we can\u001b[39;00m\n\u001b[1;32m    <a href='file:///nas/home/gujiashe/miniconda3/envs/pykeen/lib/python3.10/site-packages/torch/serialization.py?line=998'>999</a>\u001b[0m \u001b[39m# stop wrapping with _TypedStorage\u001b[39;00m\n\u001b[1;32m   <a href='file:///nas/home/gujiashe/miniconda3/envs/pykeen/lib/python3.10/site-packages/torch/serialization.py?line=999'>1000</a>\u001b[0m loaded_storages[key] \u001b[39m=\u001b[39m torch\u001b[39m.\u001b[39mstorage\u001b[39m.\u001b[39m_TypedStorage(\n\u001b[0;32m-> <a href='file:///nas/home/gujiashe/miniconda3/envs/pykeen/lib/python3.10/site-packages/torch/serialization.py?line=1000'>1001</a>\u001b[0m     wrap_storage\u001b[39m=\u001b[39mrestore_location(storage, location),\n\u001b[1;32m   <a href='file:///nas/home/gujiashe/miniconda3/envs/pykeen/lib/python3.10/site-packages/torch/serialization.py?line=1001'>1002</a>\u001b[0m     dtype\u001b[39m=\u001b[39mdtype)\n",
      "File \u001b[0;32m~/miniconda3/envs/pykeen/lib/python3.10/site-packages/torch/serialization.py:176\u001b[0m, in \u001b[0;36mdefault_restore_location\u001b[0;34m(storage, location)\u001b[0m\n\u001b[1;32m    <a href='file:///nas/home/gujiashe/miniconda3/envs/pykeen/lib/python3.10/site-packages/torch/serialization.py?line=173'>174</a>\u001b[0m \u001b[39mdef\u001b[39;00m \u001b[39mdefault_restore_location\u001b[39m(storage, location):\n\u001b[1;32m    <a href='file:///nas/home/gujiashe/miniconda3/envs/pykeen/lib/python3.10/site-packages/torch/serialization.py?line=174'>175</a>\u001b[0m     \u001b[39mfor\u001b[39;00m _, _, fn \u001b[39min\u001b[39;00m _package_registry:\n\u001b[0;32m--> <a href='file:///nas/home/gujiashe/miniconda3/envs/pykeen/lib/python3.10/site-packages/torch/serialization.py?line=175'>176</a>\u001b[0m         result \u001b[39m=\u001b[39m fn(storage, location)\n\u001b[1;32m    <a href='file:///nas/home/gujiashe/miniconda3/envs/pykeen/lib/python3.10/site-packages/torch/serialization.py?line=176'>177</a>\u001b[0m         \u001b[39mif\u001b[39;00m result \u001b[39mis\u001b[39;00m \u001b[39mnot\u001b[39;00m \u001b[39mNone\u001b[39;00m:\n\u001b[1;32m    <a href='file:///nas/home/gujiashe/miniconda3/envs/pykeen/lib/python3.10/site-packages/torch/serialization.py?line=177'>178</a>\u001b[0m             \u001b[39mreturn\u001b[39;00m result\n",
      "File \u001b[0;32m~/miniconda3/envs/pykeen/lib/python3.10/site-packages/torch/serialization.py:158\u001b[0m, in \u001b[0;36m_cuda_deserialize\u001b[0;34m(obj, location)\u001b[0m\n\u001b[1;32m    <a href='file:///nas/home/gujiashe/miniconda3/envs/pykeen/lib/python3.10/site-packages/torch/serialization.py?line=155'>156</a>\u001b[0m         \u001b[39mreturn\u001b[39;00m storage_type(obj\u001b[39m.\u001b[39mnbytes())\n\u001b[1;32m    <a href='file:///nas/home/gujiashe/miniconda3/envs/pykeen/lib/python3.10/site-packages/torch/serialization.py?line=156'>157</a>\u001b[0m \u001b[39melse\u001b[39;00m:\n\u001b[0;32m--> <a href='file:///nas/home/gujiashe/miniconda3/envs/pykeen/lib/python3.10/site-packages/torch/serialization.py?line=157'>158</a>\u001b[0m     \u001b[39mreturn\u001b[39;00m obj\u001b[39m.\u001b[39;49mcuda(device)\n",
      "File \u001b[0;32m~/miniconda3/envs/pykeen/lib/python3.10/site-packages/torch/_utils.py:79\u001b[0m, in \u001b[0;36m_cuda\u001b[0;34m(self, device, non_blocking, **kwargs)\u001b[0m\n\u001b[1;32m     <a href='file:///nas/home/gujiashe/miniconda3/envs/pykeen/lib/python3.10/site-packages/torch/_utils.py?line=76'>77</a>\u001b[0m \u001b[39melse\u001b[39;00m:\n\u001b[1;32m     <a href='file:///nas/home/gujiashe/miniconda3/envs/pykeen/lib/python3.10/site-packages/torch/_utils.py?line=77'>78</a>\u001b[0m     new_type \u001b[39m=\u001b[39m \u001b[39mgetattr\u001b[39m(torch\u001b[39m.\u001b[39mcuda, \u001b[39mself\u001b[39m\u001b[39m.\u001b[39m\u001b[39m__class__\u001b[39m\u001b[39m.\u001b[39m\u001b[39m__name__\u001b[39m)\n\u001b[0;32m---> <a href='file:///nas/home/gujiashe/miniconda3/envs/pykeen/lib/python3.10/site-packages/torch/_utils.py?line=78'>79</a>\u001b[0m     \u001b[39mreturn\u001b[39;00m new_type(\u001b[39mself\u001b[39;49m\u001b[39m.\u001b[39;49msize())\u001b[39m.\u001b[39mcopy_(\u001b[39mself\u001b[39m, non_blocking)\n",
      "File \u001b[0;32m~/miniconda3/envs/pykeen/lib/python3.10/site-packages/torch/cuda/__init__.py:661\u001b[0m, in \u001b[0;36m_lazy_new\u001b[0;34m(cls, *args, **kwargs)\u001b[0m\n\u001b[1;32m    <a href='file:///nas/home/gujiashe/miniconda3/envs/pykeen/lib/python3.10/site-packages/torch/cuda/__init__.py?line=657'>658</a>\u001b[0m _lazy_init()\n\u001b[1;32m    <a href='file:///nas/home/gujiashe/miniconda3/envs/pykeen/lib/python3.10/site-packages/torch/cuda/__init__.py?line=658'>659</a>\u001b[0m \u001b[39m# We may need to call lazy init again if we are a forked child\u001b[39;00m\n\u001b[1;32m    <a href='file:///nas/home/gujiashe/miniconda3/envs/pykeen/lib/python3.10/site-packages/torch/cuda/__init__.py?line=659'>660</a>\u001b[0m \u001b[39m# del _CudaBase.__new__\u001b[39;00m\n\u001b[0;32m--> <a href='file:///nas/home/gujiashe/miniconda3/envs/pykeen/lib/python3.10/site-packages/torch/cuda/__init__.py?line=660'>661</a>\u001b[0m \u001b[39mreturn\u001b[39;00m \u001b[39msuper\u001b[39;49m(_CudaBase, \u001b[39mcls\u001b[39;49m)\u001b[39m.\u001b[39;49m\u001b[39m__new__\u001b[39;49m(\u001b[39mcls\u001b[39;49m, \u001b[39m*\u001b[39;49margs, \u001b[39m*\u001b[39;49m\u001b[39m*\u001b[39;49mkwargs)\n",
      "\u001b[0;31mKeyboardInterrupt\u001b[0m: "
     ]
    }
   ],
   "source": [
    "model = torch.load('/nas/home/gujiashe/trans/2022-04-11-20-07-24_af660c1f-7064-4859-b5a7-11bd1b476116/replicates/replicate-00000/trained_model.pkl')\n",
    "dataset = YAGO310()"
   ]
  },
  {
   "cell_type": "code",
   "execution_count": null,
   "metadata": {},
   "outputs": [
    {
     "name": "stderr",
     "output_type": "stream",
     "text": [
      "You're trying to map triples with 18 entities and 0 relations that are not in the training set. These triples will be excluded from the mapping.\n",
      "In total 18 from 5000 triples were filtered out\n",
      "You're trying to map triples with 22 entities and 0 relations that are not in the training set. These triples will be excluded from the mapping.\n",
      "In total 22 from 5000 triples were filtered out\n",
      "/nas/home/gujiashe/miniconda3/envs/pykeen/lib/python3.10/site-packages/pykeen/nn/representation.py:375: UserWarning: Directly use Embedding.shape instead of num_embeddings.\n",
      "  warnings.warn(f\"Directly use {self.__class__.__name__}.shape instead of num_embeddings.\")\n"
     ]
    },
    {
     "data": {
      "application/vnd.jupyter.widget-view+json": {
       "model_id": "eb12d948c488430b95525fec45ef37e9",
       "version_major": 2,
       "version_minor": 0
      },
      "text/plain": [
       "Evaluating on cuda:1:   0%|          | 0.00/4.98k [00:00<?, ?triple/s]"
      ]
     },
     "metadata": {},
     "output_type": "display_data"
    }
   ],
   "source": [
    "# # Define evaluator\n",
    "# evaluator = RankBasedEvaluator(\n",
    "#     filtered=True,  # Note: this is True by default; we're just being explicit\n",
    "# )\n",
    "\n",
    "# # Evaluate your model with not only testing triples,\n",
    "# # but also filter on validation triples\n",
    "# results = evaluator.evaluate(\n",
    "#     model=model,\n",
    "#     mapped_triples=dataset.testing.mapped_triples,\n",
    "#     additional_filter_triples=[\n",
    "#         dataset.training.mapped_triples,\n",
    "#         dataset.validation.mapped_triples,\n",
    "#     ],\n",
    "#     device = \"cuda:1\",\n",
    "# )"
   ]
  },
  {
   "cell_type": "code",
   "execution_count": 8,
   "metadata": {},
   "outputs": [
    {
     "name": "stderr",
     "output_type": "stream",
     "text": [
      "  0%|          | 0/5000 [00:00<?, ?it/s]/nas/home/gujiashe/miniconda3/envs/pykeen/lib/python3.10/site-packages/pykeen/nn/representation.py:375: UserWarning: Directly use Embedding.shape instead of num_embeddings.\n",
      "  warnings.warn(f\"Directly use {self.__class__.__name__}.shape instead of num_embeddings.\")\n",
      "100%|██████████| 5000/5000 [18:21<00:00,  4.54it/s]\n"
     ]
    },
    {
     "data": {
      "text/html": [
       "<div>\n",
       "<style scoped>\n",
       "    .dataframe tbody tr th:only-of-type {\n",
       "        vertical-align: middle;\n",
       "    }\n",
       "\n",
       "    .dataframe tbody tr th {\n",
       "        vertical-align: top;\n",
       "    }\n",
       "\n",
       "    .dataframe thead th {\n",
       "        text-align: right;\n",
       "    }\n",
       "</style>\n",
       "<table border=\"1\" class=\"dataframe\">\n",
       "  <thead>\n",
       "    <tr style=\"text-align: right;\">\n",
       "      <th></th>\n",
       "      <th>head</th>\n",
       "      <th>relation</th>\n",
       "      <th>pred_tail</th>\n",
       "      <th>true_tail</th>\n",
       "      <th>rank</th>\n",
       "    </tr>\n",
       "  </thead>\n",
       "  <tbody>\n",
       "    <tr>\n",
       "      <th>0</th>\n",
       "      <td>Stan_Collymore</td>\n",
       "      <td>playsFor</td>\n",
       "      <td>Leicester_City_F.C.</td>\n",
       "      <td>England_national_football_team</td>\n",
       "      <td>13</td>\n",
       "    </tr>\n",
       "    <tr>\n",
       "      <th>1</th>\n",
       "      <td>Suriname</td>\n",
       "      <td>hasOfficialLanguage</td>\n",
       "      <td>English_language</td>\n",
       "      <td>Dutch_language</td>\n",
       "      <td>6</td>\n",
       "    </tr>\n",
       "    <tr>\n",
       "      <th>2</th>\n",
       "      <td>Mantorras</td>\n",
       "      <td>playsFor</td>\n",
       "      <td>Angola_national_football_team</td>\n",
       "      <td>F.C._Alverca</td>\n",
       "      <td>5</td>\n",
       "    </tr>\n",
       "    <tr>\n",
       "      <th>3</th>\n",
       "      <td>Pablo_Bonells</td>\n",
       "      <td>isAffiliatedTo</td>\n",
       "      <td>Pumas_Morelos</td>\n",
       "      <td>Club_Celaya</td>\n",
       "      <td>5</td>\n",
       "    </tr>\n",
       "    <tr>\n",
       "      <th>4</th>\n",
       "      <td>Jürgen_Habermas</td>\n",
       "      <td>isInterestedIn</td>\n",
       "      <td>Political_philosophy</td>\n",
       "      <td>Political_philosophy</td>\n",
       "      <td>1</td>\n",
       "    </tr>\n",
       "    <tr>\n",
       "      <th>...</th>\n",
       "      <td>...</td>\n",
       "      <td>...</td>\n",
       "      <td>...</td>\n",
       "      <td>...</td>\n",
       "      <td>...</td>\n",
       "    </tr>\n",
       "    <tr>\n",
       "      <th>4977</th>\n",
       "      <td>Carlo_Cudicini</td>\n",
       "      <td>wasBornIn</td>\n",
       "      <td>Milan</td>\n",
       "      <td>Milan</td>\n",
       "      <td>1</td>\n",
       "    </tr>\n",
       "    <tr>\n",
       "      <th>4978</th>\n",
       "      <td>Craig_Hignett</td>\n",
       "      <td>isAffiliatedTo</td>\n",
       "      <td>Middlesbrough_F.C.</td>\n",
       "      <td>Hartlepool_United_F.C.</td>\n",
       "      <td>13</td>\n",
       "    </tr>\n",
       "    <tr>\n",
       "      <th>4979</th>\n",
       "      <td>Andrew_Watson_(footballer)</td>\n",
       "      <td>wasBornIn</td>\n",
       "      <td>Glasgow</td>\n",
       "      <td>Georgetown,_Guyana</td>\n",
       "      <td>684</td>\n",
       "    </tr>\n",
       "    <tr>\n",
       "      <th>4980</th>\n",
       "      <td>Saša_Radivojević</td>\n",
       "      <td>playsFor</td>\n",
       "      <td>FK_Čukarički</td>\n",
       "      <td>FK_Radnički_Beograd</td>\n",
       "      <td>9</td>\n",
       "    </tr>\n",
       "    <tr>\n",
       "      <th>4981</th>\n",
       "      <td>Schwechat</td>\n",
       "      <td>isLocatedIn</td>\n",
       "      <td>Wien-Umgebung_District</td>\n",
       "      <td>Lower_Austria</td>\n",
       "      <td>5</td>\n",
       "    </tr>\n",
       "  </tbody>\n",
       "</table>\n",
       "<p>4982 rows × 5 columns</p>\n",
       "</div>"
      ],
      "text/plain": [
       "                            head             relation  \\\n",
       "0                 Stan_Collymore             playsFor   \n",
       "1                       Suriname  hasOfficialLanguage   \n",
       "2                      Mantorras             playsFor   \n",
       "3                  Pablo_Bonells       isAffiliatedTo   \n",
       "4                Jürgen_Habermas       isInterestedIn   \n",
       "...                          ...                  ...   \n",
       "4977              Carlo_Cudicini            wasBornIn   \n",
       "4978               Craig_Hignett       isAffiliatedTo   \n",
       "4979  Andrew_Watson_(footballer)            wasBornIn   \n",
       "4980            Saša_Radivojević             playsFor   \n",
       "4981                   Schwechat          isLocatedIn   \n",
       "\n",
       "                          pred_tail                       true_tail  rank  \n",
       "0               Leicester_City_F.C.  England_national_football_team    13  \n",
       "1                  English_language                  Dutch_language     6  \n",
       "2     Angola_national_football_team                    F.C._Alverca     5  \n",
       "3                     Pumas_Morelos                     Club_Celaya     5  \n",
       "4              Political_philosophy            Political_philosophy     1  \n",
       "...                             ...                             ...   ...  \n",
       "4977                          Milan                           Milan     1  \n",
       "4978             Middlesbrough_F.C.          Hartlepool_United_F.C.    13  \n",
       "4979                        Glasgow              Georgetown,_Guyana   684  \n",
       "4980                   FK_Čukarički             FK_Radnički_Beograd     9  \n",
       "4981         Wien-Umgebung_District                   Lower_Austria     5  \n",
       "\n",
       "[4982 rows x 5 columns]"
      ]
     },
     "execution_count": 8,
     "metadata": {},
     "output_type": "execute_result"
    }
   ],
   "source": [
    "# Predict tails\n",
    "data = pd.read_csv('YAGO3-10/test.txt', sep=\"\\t\", header=None)\n",
    "df = {}\n",
    "df[\"head\"] = []\n",
    "df[\"relation\"] = []\n",
    "df[\"pred_tail\"] = []\n",
    "df[\"true_tail\"] = []\n",
    "df[\"rank\"] = []\n",
    "\n",
    "for head, relation, tail in tqdm(data.to_numpy()):\n",
    "    if head not in dataset.training.entity_to_id.keys() or tail not in dataset.training.entity_to_id.keys():\n",
    "        continue\n",
    "    predicted_tails_df = predict.get_tail_prediction_df(\n",
    "        model, head, relation, triples_factory=dataset.training,\n",
    "    )\n",
    "\n",
    "    pred_tail_row = predicted_tails_df[:1]\n",
    "    pred_tail = pred_tail_row[\"tail_label\"].item()\n",
    "    true_tail_row = predicted_tails_df[predicted_tails_df[\"tail_label\"] == tail]\n",
    "    tail_id = true_tail_row[\"tail_id\"].item()\n",
    "    rank = predicted_tails_df.index.get_loc(tail_id) + 1\n",
    "    df[\"head\"].append(head)\n",
    "    df[\"relation\"].append(relation)\n",
    "    df[\"pred_tail\"].append(pred_tail)\n",
    "    df[\"true_tail\"].append(tail)\n",
    "    df[\"rank\"].append(rank)\n",
    "    break\n",
    "df = pd.DataFrame(df)\n",
    "df\n"
   ]
  },
  {
   "cell_type": "code",
   "execution_count": 9,
   "metadata": {},
   "outputs": [],
   "source": [
    "df.to_csv('yago310_top_predictions.tsv', sep=\"\\t\")"
   ]
  },
  {
   "cell_type": "code",
   "execution_count": 89,
   "metadata": {},
   "outputs": [],
   "source": [
    "# dataset = YAGO310()\n",
    "# dataset.relation_to_id.items()\n",
    "\n",
    "# dataset = YAGO310()\n",
    "\n",
    "# model = TransE(triples_factory=dataset.training)\n",
    "# model.to(\"cuda\")\n",
    "\n",
    "# optimizer = Adam(params=model.get_grad_params()) \n",
    "\n",
    "# training_loop = SLCWATrainingLoop(model=model, triples_factory=dataset.training, optimizer=optimizer) \n",
    "\n",
    "# training_loop.train(triples_factory=dataset.training, num_epochs=5, batch_size=256)\n",
    "\n",
    "# evaluator = RankBasedEvaluator()\n",
    "# # Get triples to test\n",
    "# mapped_triples = dataset.testing.mapped_triples\n",
    "# # Evaluate\n",
    "# results = evaluator.evaluate(model, mapped_triples, batch_size=64)"
   ]
  },
  {
   "cell_type": "code",
   "execution_count": null,
   "metadata": {},
   "outputs": [],
   "source": []
  }
 ],
 "metadata": {
  "interpreter": {
   "hash": "24e9b4ec3e5982e03e8718a00cb72022c31e89c1f9528f16f13627f3d4028efa"
  },
  "kernelspec": {
   "display_name": "Python 3.9.7 ('trans')",
   "language": "python",
   "name": "python3"
  },
  "language_info": {
   "codemirror_mode": {
    "name": "ipython",
    "version": 3
   },
   "file_extension": ".py",
   "mimetype": "text/x-python",
   "name": "python",
   "nbconvert_exporter": "python",
   "pygments_lexer": "ipython3",
   "version": "3.10.4"
  },
  "orig_nbformat": 4
 },
 "nbformat": 4,
 "nbformat_minor": 2
}
