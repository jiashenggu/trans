{
 "cells": [
  {
   "cell_type": "code",
   "execution_count": 1,
   "metadata": {},
   "outputs": [],
   "source": [
    "from pykeen.pipeline import pipeline\n",
    "from pykeen.models import TransE\n",
    "from pykeen.datasets import YAGO310\n",
    "from pykeen.models import predict\n",
    "from pykeen.training import SLCWATrainingLoop\n",
    "from pykeen.evaluation import RankBasedEvaluator\n",
    "from pykeen.regularizers import LpRegularizer\n",
    "from torch.optim import Adam\n",
    "import torch\n",
    "import pandas as pd\n",
    "from tqdm import tqdm"
   ]
  },
  {
   "cell_type": "code",
   "execution_count": 2,
   "metadata": {},
   "outputs": [],
   "source": [
    "model = torch.load('/nas/home/gujiashe/trans/YAGO310_d350_b128_epochs50/trained_model.pkl')\n",
    "dataset = YAGO310()"
   ]
  },
  {
   "cell_type": "code",
   "execution_count": 3,
   "metadata": {},
   "outputs": [
    {
     "name": "stderr",
     "output_type": "stream",
     "text": [
      "You're trying to map triples with 22 entities and 0 relations that are not in the training set. These triples will be excluded from the mapping.\n",
      "In total 22 from 5000 triples were filtered out\n"
     ]
    },
    {
     "data": {
      "application/vnd.jupyter.widget-view+json": {
       "model_id": "6185edb930c042999733a917392c2985",
       "version_major": 2,
       "version_minor": 0
      },
      "text/plain": [
       "Evaluating on cuda:0:   0%|          | 0.00/4.98k [00:00<?, ?triple/s]"
      ]
     },
     "metadata": {},
     "output_type": "display_data"
    }
   ],
   "source": [
    "# Define evaluator\n",
    "evaluator = RankBasedEvaluator(\n",
    "    filtered=True,  # Note: this is True by default; we're just being explicit\n",
    ")\n",
    "\n",
    "# Evaluate your model with not only testing triples,\n",
    "# but also filter on validation triples\n",
    "results = evaluator.evaluate(\n",
    "    model=model,\n",
    "    mapped_triples=dataset.testing.mapped_triples,\n",
    "    additional_filter_triples=[\n",
    "        dataset.training.mapped_triples,\n",
    "        dataset.validation.mapped_triples,\n",
    "    ],\n",
    ")"
   ]
  },
  {
   "cell_type": "code",
   "execution_count": 3,
   "metadata": {},
   "outputs": [
    {
     "name": "stderr",
     "output_type": "stream",
     "text": [
      "  0%|          | 0/5000 [00:00<?, ?it/s]You're trying to map triples with 18 entities and 0 relations that are not in the training set. These triples will be excluded from the mapping.\n",
      "In total 18 from 5000 triples were filtered out\n",
      "  0%|          | 0/5000 [00:09<?, ?it/s]\n"
     ]
    },
    {
     "data": {
      "text/html": [
       "<div>\n",
       "<style scoped>\n",
       "    .dataframe tbody tr th:only-of-type {\n",
       "        vertical-align: middle;\n",
       "    }\n",
       "\n",
       "    .dataframe tbody tr th {\n",
       "        vertical-align: top;\n",
       "    }\n",
       "\n",
       "    .dataframe thead th {\n",
       "        text-align: right;\n",
       "    }\n",
       "</style>\n",
       "<table border=\"1\" class=\"dataframe\">\n",
       "  <thead>\n",
       "    <tr style=\"text-align: right;\">\n",
       "      <th></th>\n",
       "      <th>head</th>\n",
       "      <th>relation</th>\n",
       "      <th>pred_tail</th>\n",
       "      <th>true_tail</th>\n",
       "      <th>rank</th>\n",
       "    </tr>\n",
       "  </thead>\n",
       "  <tbody>\n",
       "    <tr>\n",
       "      <th>0</th>\n",
       "      <td>Stan_Collymore</td>\n",
       "      <td>playsFor</td>\n",
       "      <td>Manchester_City_F.C.</td>\n",
       "      <td>England_national_football_team</td>\n",
       "      <td>72</td>\n",
       "    </tr>\n",
       "  </tbody>\n",
       "</table>\n",
       "</div>"
      ],
      "text/plain": [
       "             head  relation             pred_tail  \\\n",
       "0  Stan_Collymore  playsFor  Manchester_City_F.C.   \n",
       "\n",
       "                        true_tail  rank  \n",
       "0  England_national_football_team    72  "
      ]
     },
     "execution_count": 3,
     "metadata": {},
     "output_type": "execute_result"
    }
   ],
   "source": [
    "# Predict tails\n",
    "data = pd.read_csv('YAGO3-10/test.txt', sep=\"\\t\", header=None)\n",
    "df = {}\n",
    "df[\"head\"] = []\n",
    "df[\"relation\"] = []\n",
    "df[\"pred_tail\"] = []\n",
    "df[\"true_tail\"] = []\n",
    "df[\"rank\"] = []\n",
    "\n",
    "for head, relation, tail in tqdm(data.to_numpy()):\n",
    "    if head not in dataset.training.entity_to_id.keys() or tail not in dataset.training.entity_to_id.keys():\n",
    "        continue\n",
    "    predicted_tails_df = predict.get_tail_prediction_df(\n",
    "        model, head, relation, triples_factory=dataset.training,\n",
    "    )\n",
    "\n",
    "    pred_tail_row = predicted_tails_df[:1]\n",
    "    pred_tail = pred_tail_row[\"tail_label\"].item()\n",
    "    true_tail_row = predicted_tails_df[predicted_tails_df[\"tail_label\"] == tail]\n",
    "    tail_id = true_tail_row[\"tail_id\"].item()\n",
    "    rank = predicted_tails_df.index.get_loc(tail_id) + 1\n",
    "    df[\"head\"].append(head)\n",
    "    df[\"relation\"].append(relation)\n",
    "    df[\"pred_tail\"].append(pred_tail)\n",
    "    df[\"true_tail\"].append(tail)\n",
    "    df[\"rank\"].append(rank)\n",
    "    break\n",
    "df = pd.DataFrame(df)\n",
    "df\n"
   ]
  },
  {
   "cell_type": "code",
   "execution_count": 90,
   "metadata": {},
   "outputs": [],
   "source": [
    "df.to_csv('yago310_top_prediction.tsv', sep=\"\\t\")"
   ]
  },
  {
   "cell_type": "code",
   "execution_count": 89,
   "metadata": {},
   "outputs": [],
   "source": [
    "# dataset = YAGO310()\n",
    "# dataset.relation_to_id.items()\n",
    "\n",
    "# dataset = YAGO310()\n",
    "\n",
    "# model = TransE(triples_factory=dataset.training)\n",
    "# model.to(\"cuda\")\n",
    "\n",
    "# optimizer = Adam(params=model.get_grad_params()) \n",
    "\n",
    "# training_loop = SLCWATrainingLoop(model=model, triples_factory=dataset.training, optimizer=optimizer) \n",
    "\n",
    "# training_loop.train(triples_factory=dataset.training, num_epochs=5, batch_size=256)\n",
    "\n",
    "# evaluator = RankBasedEvaluator()\n",
    "# # Get triples to test\n",
    "# mapped_triples = dataset.testing.mapped_triples\n",
    "# # Evaluate\n",
    "# results = evaluator.evaluate(model, mapped_triples, batch_size=64)"
   ]
  },
  {
   "cell_type": "code",
   "execution_count": null,
   "metadata": {},
   "outputs": [],
   "source": []
  }
 ],
 "metadata": {
  "interpreter": {
   "hash": "24e9b4ec3e5982e03e8718a00cb72022c31e89c1f9528f16f13627f3d4028efa"
  },
  "kernelspec": {
   "display_name": "Python 3.9.7 ('trans')",
   "language": "python",
   "name": "python3"
  },
  "language_info": {
   "codemirror_mode": {
    "name": "ipython",
    "version": 3
   },
   "file_extension": ".py",
   "mimetype": "text/x-python",
   "name": "python",
   "nbconvert_exporter": "python",
   "pygments_lexer": "ipython3",
   "version": "3.10.4"
  },
  "orig_nbformat": 4
 },
 "nbformat": 4,
 "nbformat_minor": 2
}
